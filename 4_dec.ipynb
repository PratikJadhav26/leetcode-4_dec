{
 "cells": [
  {
   "cell_type": "code",
   "execution_count": 52,
   "id": "37b9d4e8",
   "metadata": {
    "scrolled": true
   },
   "outputs": [
    {
     "data": {
      "text/plain": [
       "'0b1011'"
      ]
     },
     "execution_count": 52,
     "metadata": {},
     "output_type": "execute_result"
    }
   ],
   "source": [
    "bin(11)"
   ]
  },
  {
   "cell_type": "code",
   "execution_count": 53,
   "id": "9af1391f",
   "metadata": {},
   "outputs": [
    {
     "data": {
      "text/plain": [
       "'0b1'"
      ]
     },
     "execution_count": 53,
     "metadata": {},
     "output_type": "execute_result"
    }
   ],
   "source": [
    "bin(1)"
   ]
  },
  {
   "cell_type": "markdown",
   "id": "1fb5b31d",
   "metadata": {},
   "source": [
    "### Binary Addition"
   ]
  },
  {
   "cell_type": "code",
   "execution_count": 56,
   "id": "7ce92780",
   "metadata": {},
   "outputs": [
    {
     "name": "stdout",
     "output_type": "stream",
     "text": [
      "100\n"
     ]
    }
   ],
   "source": [
    "class Solution:\n",
    "    def addBinary(self, a: str, b: str):\n",
    "        return bin(int(a, 2) + int(b, 2))[2:]        #bin(11)    '0b1011'\n",
    "                                                     #bin (1)     '0b1'\n",
    "a='11'\n",
    "b='1'\n",
    "sol_in=Solution()\n",
    "\n",
    "result=sol_in.addBinary(a,b)\n",
    "print(result)"
   ]
  },
  {
   "cell_type": "code",
   "execution_count": 32,
   "id": "88a43689",
   "metadata": {},
   "outputs": [
    {
     "name": "stdout",
     "output_type": "stream",
     "text": [
      "10101\n"
     ]
    }
   ],
   "source": [
    "class Solution:\n",
    "    def addBinary(self, a: str, b: str) -> str:\n",
    "        return bin(int(a, 2) + int(b, 2))[2:]\n",
    "a='1010'\n",
    "b='1011'\n",
    "sol_in=Solution()\n",
    "\n",
    "result=sol_in.addBinary(a,b)\n",
    "print(result)"
   ]
  },
  {
   "cell_type": "markdown",
   "id": "fdce32ab",
   "metadata": {},
   "source": [
    "### square Root"
   ]
  },
  {
   "cell_type": "code",
   "execution_count": 26,
   "id": "693ff4b3",
   "metadata": {},
   "outputs": [
    {
     "name": "stdout",
     "output_type": "stream",
     "text": [
      "4.0\n"
     ]
    }
   ],
   "source": [
    "class Solution:\n",
    "    \n",
    "    def mySqrt(self, x:int):\n",
    "        import math\n",
    "        return (math.sqrt(x))     # used sqrt \n",
    "    \n",
    "sol=Solution()\n",
    "res=sol.mySqrt(16)\n",
    "print(res)"
   ]
  },
  {
   "cell_type": "code",
   "execution_count": 27,
   "id": "103f08cd",
   "metadata": {},
   "outputs": [
    {
     "name": "stdout",
     "output_type": "stream",
     "text": [
      "3.7416573867739413\n"
     ]
    }
   ],
   "source": [
    "class Solution:\n",
    "    \n",
    "    def mySqrt(self, x:int):\n",
    "        import math\n",
    "        return (math.sqrt(x))\n",
    "    \n",
    "sol=Solution()\n",
    "res=sol.mySqrt(14)\n",
    "print(res)"
   ]
  },
  {
   "cell_type": "code",
   "execution_count": null,
   "id": "72933fe7",
   "metadata": {},
   "outputs": [],
   "source": []
  },
  {
   "cell_type": "markdown",
   "id": "5af647d8",
   "metadata": {},
   "source": [
    "### Write a function to find the longest common prefix string amongst an array of strings. If there is no common prefix, return an empty string \"\"."
   ]
  },
  {
   "cell_type": "code",
   "execution_count": 41,
   "id": "ea66d9e6",
   "metadata": {},
   "outputs": [
    {
     "name": "stdout",
     "output_type": "stream",
     "text": [
      "fl\n"
     ]
    }
   ],
   "source": [
    "class solution:\n",
    "    def long_common_pref(self, str1=[str]):\n",
    "        prefix=str1[0]\n",
    "        #print(prefix)\n",
    "        \n",
    "        for i in str1:\n",
    "            while not i.startswith(prefix):\n",
    "                prefix=prefix[:-1]\n",
    "        return(prefix)\n",
    "        \n",
    "str1=[\"flower\",\"flow\",\"flight\"]\n",
    "sol=solution()\n",
    "res=sol.long_common_pref(str1)        \n",
    "print(res)\n",
    "                "
   ]
  },
  {
   "cell_type": "code",
   "execution_count": 55,
   "id": "7e7656a3",
   "metadata": {},
   "outputs": [
    {
     "name": "stdout",
     "output_type": "stream",
     "text": [
      "\n"
     ]
    },
    {
     "data": {
      "text/plain": [
       "''"
      ]
     },
     "execution_count": 55,
     "metadata": {},
     "output_type": "execute_result"
    }
   ],
   "source": [
    "class solution:\n",
    "    def long_common_pref(self, str1=[str]):\n",
    "        prefix=str1[0]\n",
    "        #print(prefix)\n",
    "        \n",
    "        for i in str1:\n",
    "            while not i.startswith(prefix):\n",
    "                prefix=prefix[:-1]\n",
    "        return(prefix)\n",
    "        \n",
    "str1=[\"dog\",\"racecar\",\"car\"]\n",
    "sol=solution()\n",
    "res=sol.long_common_pref(str1)        \n",
    "print(res)\n",
    "res                                    # output empty string because strings are starts with common prefix"
   ]
  },
  {
   "cell_type": "code",
   "execution_count": null,
   "id": "8fd211e5",
   "metadata": {},
   "outputs": [],
   "source": []
  },
  {
   "cell_type": "code",
   "execution_count": null,
   "id": "f422924c",
   "metadata": {},
   "outputs": [],
   "source": []
  },
  {
   "cell_type": "code",
   "execution_count": null,
   "id": "b270bfcd",
   "metadata": {},
   "outputs": [],
   "source": []
  }
 ],
 "metadata": {
  "kernelspec": {
   "display_name": "Python 3 (ipykernel)",
   "language": "python",
   "name": "python3"
  },
  "language_info": {
   "codemirror_mode": {
    "name": "ipython",
    "version": 3
   },
   "file_extension": ".py",
   "mimetype": "text/x-python",
   "name": "python",
   "nbconvert_exporter": "python",
   "pygments_lexer": "ipython3",
   "version": "3.9.12"
  }
 },
 "nbformat": 4,
 "nbformat_minor": 5
}
